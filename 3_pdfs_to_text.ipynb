{
 "cells": [
  {
   "cell_type": "code",
   "execution_count": null,
   "metadata": {},
   "outputs": [],
   "source": [
    "\n",
    "\n",
    "# THIS NEEDS WORK\n",
    "\n",
    "import pandas as pd\n",
    "import io\n",
    "import requests\n",
    "from pypdf import PdfReader\n",
    "\n",
    "df = pd.read_csv('localplans.csv')\n",
    "df2 = df\n",
    "\n",
    "\n",
    "def parse_pdf(row):\n",
    "    print(row['pdf'])\n",
    "    print(row['lpa'])\n",
    "\n",
    "    headers = {\n",
    "        'User-Agent': 'Mozilla/5.0 (X11; Windows; Windows x86_64) AppleWebKit/537.36 (KHTML, like Gecko) Chrome/103.0.5060.114 Safari/537.36'}\n",
    "\n",
    "    try:\n",
    "        response = requests.get(url=row['pdf'], headers=headers, timeout=1200)\n",
    "        on_fly_mem_obj = io.BytesIO(response.content)\n",
    "        reader = PdfReader(on_fly_mem_obj)\n",
    "\n",
    "        output = \"\"\n",
    "        for i in range(len(reader.pages)):\n",
    "            page = reader.pages[i]\n",
    "            output += page.extract_text()\n",
    "\n",
    "        file_name = \"pdfs/\" + row['lpa'].replace(\" \", \"_\") + '.txt'\n",
    "        print(file_name)\n",
    "        with open(file_name, \"w\") as text_file:\n",
    "            text_file.write(output)\n",
    "\n",
    "    except:\n",
    "        print('FAIL******')\n",
    "        print(row['pdf'])\n",
    "\n",
    "\n",
    "df2.apply(parse_pdf, axis=1)"
   ]
  }
 ],
 "metadata": {
  "language_info": {
   "name": "python"
  }
 },
 "nbformat": 4,
 "nbformat_minor": 2
}
